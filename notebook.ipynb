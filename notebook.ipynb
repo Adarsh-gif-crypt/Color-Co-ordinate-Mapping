{
  "nbformat": 4,
  "nbformat_minor": 0,
  "metadata": {
    "colab": {
      "provenance": []
    },
    "kernelspec": {
      "name": "python3",
      "display_name": "Python 3"
    },
    "language_info": {
      "name": "python"
    }
  },
  "cells": [
    {
      "cell_type": "markdown",
      "source": [
        "### To Run\n",
        "- Have access to TCNSIntern ID (It uses content from drive)\n",
        "- Clone repository (Code in cell below. Just run)\n",
        "- Drag `colorlist` folder from the repo folder to Colab's runtime (content/)\n",
        "- Drag `seg_import.py` and `extractor.py` from repo filder to Colab's runtime (content/)\n",
        "- In `extractor.py` line 13, change the path of `colorlist.txt` to current path `/content/colorlist/colorlist.txt`\n",
        "- Upload input image to Colab's runtime (content/)\n",
        "- Only run main cell after running the requirement cells"
      ],
      "metadata": {
        "id": "4jHrcwc39GUZ"
      }
    },
    {
      "cell_type": "markdown",
      "source": [
        "## Requirement Cells"
      ],
      "metadata": {
        "id": "VeaJa1BX_hb5"
      }
    },
    {
      "cell_type": "code",
      "source": [
        "!python --version"
      ],
      "metadata": {
        "colab": {
          "base_uri": "https://localhost:8080/"
        },
        "id": "aZ2r2m1c6SyO",
        "outputId": "6a7965dc-684a-47ab-df3d-ada6ac57a713"
      },
      "execution_count": 1,
      "outputs": [
        {
          "output_type": "stream",
          "name": "stdout",
          "text": [
            "Python 3.8.10\n"
          ]
        }
      ]
    },
    {
      "cell_type": "code",
      "source": [
        "!pip install ultralytics==8.0.28"
      ],
      "metadata": {
        "id": "UsK239av6bD7"
      },
      "execution_count": null,
      "outputs": []
    },
    {
      "cell_type": "code",
      "source": [
        "!pip install extcolors webcolors"
      ],
      "metadata": {
        "id": "ZXpZXZQB6jhO"
      },
      "execution_count": null,
      "outputs": []
    },
    {
      "cell_type": "code",
      "source": [
        "from google.colab import drive\n",
        "drive.mount('/content/gdrive')"
      ],
      "metadata": {
        "colab": {
          "base_uri": "https://localhost:8080/"
        },
        "id": "BX9l3Pck7VZi",
        "outputId": "18b8e24e-4d04-4bd5-c148-3f903a327874"
      },
      "execution_count": 1,
      "outputs": [
        {
          "output_type": "stream",
          "name": "stdout",
          "text": [
            "Mounted at /content/gdrive\n"
          ]
        }
      ]
    },
    {
      "cell_type": "markdown",
      "source": [
        "###SKIP"
      ],
      "metadata": {
        "id": "TfpiycJW_XUD"
      }
    },
    {
      "cell_type": "code",
      "source": [
        "#Model support file - seg_import.py\n",
        "\n",
        "from ultralytics import YOLO\n",
        "import numpy as np\n",
        "\n",
        "class segment:\n",
        "  def __inti__(self, model_path):\n",
        "    self.model = YOLO(model_path)\n",
        "\n",
        "  def detect(self, img):\n",
        "\n",
        "        h, w, c = img.shape\n",
        "\n",
        "        #Model prediction\n",
        "        results = self.model.predict(source = img.copy(), save = False, save_txt = False)\n",
        "        result = results[0]\n",
        "\n",
        "        seg_contours_id = []\n",
        "\n",
        "        for seg in result.masks.segments:\n",
        "\n",
        "            seg[:, 0] *= w\n",
        "            seg[:, 1] *= h\n",
        "            segment = np.array(seg, dtype = np.int32)\n",
        "            seg_contours_id.append(segment)\n",
        "\n",
        "        #Bboxes are the bounding boxes points ((x1,y1),(x2,y2)) and bboxes1 are the xy values with dimensions (width, heigth)\n",
        "        bboxes = np.array(result.boxes.xyxy.cpu(), dtype = 'int')\n",
        "        bboxes1 = np.array(result.boxes.xywh.cpu(), dtype = 'int')\n",
        "        score = np.array(result.boxes.conf.cpu(), dtype = 'float')\n",
        "\n",
        "        return bboxes, bboxes1, seg_contours_id, score "
      ],
      "metadata": {
        "id": "-lSP7hKXxty1"
      },
      "execution_count": 2,
      "outputs": []
    },
    {
      "cell_type": "code",
      "source": [
        "#Color extraction support file - extractor.py\n",
        "\n",
        "from scipy.spatial import KDTree\n",
        "import webcolors\n",
        "import extcolors\n",
        "\n",
        "class extract:\n",
        "    def __init__(self) -> None:\n",
        "        pass\n",
        "\n",
        "    def extract_color(self, img):\n",
        "        colors, pixels = extcolors.extract_from_image(img, tolerance = 10, limit = 3)\n",
        "        \n",
        "        #Read color names from colorlist\n",
        "        color_names = []\n",
        "        with open(r'/content/Color-Co-ordinate-Mapping/colorlist/colorlist.txt','r') as fp:\n",
        "            for line in fp:\n",
        "                x = line[:-1]\n",
        "\n",
        "                color_names.append(x)\n",
        "        #RGB values for the colors in the colorlist\n",
        "        rgb_vals = [(255,87,51),(248,131,121),(255,255,255),(128,0,0),(255,219,88),\n",
        "                    (230,232,250),(128,128,128),(255,255,0),(194,178,128),(0,255,0),\n",
        "                    (221,160,221),(128,0,128),(255,215,0),(250,249,246),(255,0,0),\n",
        "                    (0,0,128),(0,0,0),(255,192,203),(128,128,0),(224,176,255),\n",
        "                    (165,42,42),(255,253,208),(192,192,192),(255,229,180),(245,245,220),\n",
        "                    (0,128,128),(255,165,0),(0,0,255),(184,115,51)]\n",
        "        kdtree = KDTree(rgb_vals)\n",
        "\n",
        "        extract_colors = []\n",
        "\n",
        "        #Adds the colors whose RGB values are closest to the detected colors\n",
        "        for color in colors:\n",
        "\n",
        "            rgb = color[0]\n",
        "\n",
        "            closest_color_idx = kdtree.query(rgb)[1]\n",
        "            closest_color = color_names[closest_color_idx]\n",
        "            extract_colors.append(closest_color)\n",
        "\n",
        "        if len(extract_colors)>2:\n",
        "            return extract_colors[-2:]\n",
        "        else:\n",
        "            return extract_colors"
      ],
      "metadata": {
        "id": "dOvoMG1az3qC"
      },
      "execution_count": 8,
      "outputs": []
    },
    {
      "cell_type": "code",
      "source": [
        "!git clone https://github.com/Adarsh-gif-crypt/Color-Co-ordinate-Mapping"
      ],
      "metadata": {
        "colab": {
          "base_uri": "https://localhost:8080/"
        },
        "id": "wLsQ_NN28B36",
        "outputId": "97305392-0f31-43fd-ebf8-be9f0cfc75b0"
      },
      "execution_count": 5,
      "outputs": [
        {
          "output_type": "stream",
          "name": "stdout",
          "text": [
            "Cloning into 'Color-Co-ordinate-Mapping'...\n",
            "remote: Enumerating objects: 51, done.\u001b[K\n",
            "remote: Counting objects: 100% (8/8), done.\u001b[K\n",
            "remote: Compressing objects: 100% (6/6), done.\u001b[K\n",
            "remote: Total 51 (delta 1), reused 8 (delta 1), pack-reused 43\u001b[K\n",
            "Unpacking objects: 100% (51/51), 46.40 MiB | 8.37 MiB/s, done.\n"
          ]
        }
      ]
    },
    {
      "cell_type": "markdown",
      "source": [
        "## MAIN CELL"
      ],
      "metadata": {
        "id": "TR0nhw4Q-dBX"
      }
    },
    {
      "cell_type": "code",
      "source": [
        "#File which initiates the whole process - main.py\n",
        "\n",
        "import cv2\n",
        "from seg_import import segment \n",
        "from PIL import Image\n",
        "import numpy as np\n",
        "from extractor import extract \n",
        "\n",
        "#Initialize both the extractor and model \n",
        "#Enter the model weight path below\n",
        "seg = segment('/content/gdrive/MyDrive/weights/best.pt')\n",
        "ext = extract()\n",
        "\n",
        "#Enter the input image path below\n",
        "img = cv2.imread('/content/inp5.jpg')\n",
        "\n",
        "#Mask\n",
        "mask = np.zeros_like(img)\n",
        "\n",
        "#Detection of the bottomwear\n",
        "bboxes, bboxdim, segmentations, scores = seg.detect(img)\n",
        "\n",
        "cv2.fillPoly(mask, segmentations, (255,255,255))\n",
        "mask_inv = cv2.bitwise_not(mask)\n",
        "\n",
        "masked_img = cv2.bitwise_and(img, mask)\n",
        "\n",
        "background = np.ones_like(img, np.uint8)*255\n",
        "background_masked = cv2.bitwise_and(background, mask_inv)\n",
        "\n",
        "result = cv2.add(masked_img, background_masked)\n",
        "\n",
        "#Convert BGR to RGB\n",
        "result = cv2.cvtColor(result, cv2.COLOR_BGR2RGB)\n",
        "\n",
        "#cv2.imshow('target',result)\n",
        "\n",
        "#Convert into a PIL (Pillow) image format before passing the extractor\n",
        "reform_img = Image.fromarray(result)\n",
        "colors = ext.extract_color(reform_img)\n",
        "print(colors)"
      ],
      "metadata": {
        "id": "9osoRl391HBH",
        "colab": {
          "base_uri": "https://localhost:8080/"
        },
        "outputId": "ec669327-fd24-4aff-f7bf-89725990bd22"
      },
      "execution_count": 10,
      "outputs": [
        {
          "output_type": "stream",
          "name": "stderr",
          "text": [
            "Ultralytics YOLOv8.0.28 🚀 Python-3.8.10 torch-1.13.1+cu116 CPU\n",
            "YOLOv8s-seg summary (fused): 195 layers, 11779987 parameters, 0 gradients, 42.4 GFLOPs\n",
            "\n",
            "0: 640x448 2 bottoms, 586.0ms\n",
            "Speed: 5.0ms pre-process, 586.0ms inference, 3.7ms postprocess per image at shape (1, 3, 640, 640)\n"
          ]
        },
        {
          "output_type": "stream",
          "name": "stdout",
          "text": [
            "['Beige', 'Grey']\n"
          ]
        }
      ]
    }
  ]
}